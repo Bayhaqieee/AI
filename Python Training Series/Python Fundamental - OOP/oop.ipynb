{
 "cells": [
  {
   "cell_type": "code",
   "execution_count": 1,
   "metadata": {},
   "outputs": [
    {
     "name": "stdout",
     "output_type": "stream",
     "text": [
      "Account Holder: John Doe\n",
      "Total Income: $10500\n",
      "Total Expenses: $5700\n",
      "Account Balance: $4800\n",
      "\n"
     ]
    },
    {
     "ename": "",
     "evalue": "",
     "output_type": "error",
     "traceback": [
      "\u001b[1;31mThe Kernel crashed while executing code in the current cell or a previous cell. \n",
      "\u001b[1;31mPlease review the code in the cell(s) to identify a possible cause of the failure. \n",
      "\u001b[1;31mClick <a href='https://aka.ms/vscodeJupyterKernelCrash'>here</a> for more info. \n",
      "\u001b[1;31mView Jupyter <a href='command:jupyter.viewOutput'>log</a> for further details."
     ]
    }
   ],
   "source": [
    "class PersonAccount:\n",
    "    def __init__(self, firstname, lastname):\n",
    "        self.firstname = firstname\n",
    "        self.lastname = lastname\n",
    "        self.incomes = []\n",
    "        self.expenses = []\n",
    "\n",
    "    def add_income(self, amount, description):\n",
    "        self.incomes.append({\"amount\": amount, \"description\": description})\n",
    "\n",
    "    def add_expense(self, amount, description):\n",
    "        self.expenses.append({\"amount\": amount, \"description\": description})\n",
    "\n",
    "    def total_income(self):\n",
    "        return sum(income['amount'] for income in self.incomes)\n",
    "\n",
    "    def total_expense(self):\n",
    "        return sum(expense['amount'] for expense in self.expenses)\n",
    "\n",
    "    def account_balance(self):\n",
    "        return self.total_income() - self.total_expense()\n",
    "\n",
    "    def account_info(self):\n",
    "        return (f\"Account Holder: {self.firstname} {self.lastname}\\n\"\n",
    "                f\"Total Income: ${self.total_income()}\\n\"\n",
    "                f\"Total Expenses: ${self.total_expense()}\\n\"\n",
    "                f\"Account Balance: ${self.account_balance()}\\n\")\n",
    "\n",
    "account = PersonAccount(\"John\", \"Doe\")\n",
    "\n",
    "account.add_income(10000, \"Salary\")\n",
    "account.add_income(500, \"Freelance\")\n",
    "\n",
    "account.add_expense(1500, \"Rent\")\n",
    "account.add_expense(200, \"Groceries\")\n",
    "account.add_expense(4000, \"Bills\")\n",
    "\n",
    "print(account.account_info())\n"
   ]
  },
  {
   "cell_type": "code",
   "execution_count": null,
   "metadata": {},
   "outputs": [],
   "source": []
  }
 ],
 "metadata": {
  "kernelspec": {
   "display_name": "Python 3",
   "language": "python",
   "name": "python3"
  },
  "language_info": {
   "codemirror_mode": {
    "name": "ipython",
    "version": 3
   },
   "file_extension": ".py",
   "mimetype": "text/x-python",
   "name": "python",
   "nbconvert_exporter": "python",
   "pygments_lexer": "ipython3",
   "version": "3.12.3"
  }
 },
 "nbformat": 4,
 "nbformat_minor": 2
}
