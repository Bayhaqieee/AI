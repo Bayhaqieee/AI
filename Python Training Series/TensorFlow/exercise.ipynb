{
 "cells": [
  {
   "cell_type": "code",
   "execution_count": 1,
   "metadata": {},
   "outputs": [],
   "source": [
    "import tensorflow as tf"
   ]
  },
  {
   "cell_type": "code",
   "execution_count": 2,
   "metadata": {},
   "outputs": [],
   "source": [
    "# Scalar (0D tensor)\n",
    "scalar = tf.constant(7)\n",
    "\n",
    "# Vector (1D tensor)\n",
    "vector = tf.constant([1, 2, 3, 4, 5])\n",
    "\n",
    "# Matrix (2D tensor)\n",
    "matrix = tf.constant([[1, 2, 3], [4, 5, 6], [7, 8, 9]])\n",
    "\n",
    "# Tensor (3D tensor)\n",
    "tensor = tf.constant([\n",
    "    [[1, 2], [3, 4]], \n",
    "    [[5, 6], [7, 8]], \n",
    "    [[9, 10], [11, 12]]\n",
    "])"
   ]
  },
  {
   "cell_type": "code",
   "execution_count": 3,
   "metadata": {},
   "outputs": [
    {
     "name": "stdout",
     "output_type": "stream",
     "text": [
      "Scalar shape: (), rank: 0, size: 1\n",
      "Vector shape: (5,), rank: 1, size: 5\n",
      "Matrix shape: (3, 3), rank: 2, size: 9\n",
      "Tensor shape: (3, 2, 2), rank: 3, size: 12\n"
     ]
    }
   ],
   "source": [
    "# Shape\n",
    "scalar_shape = scalar.shape\n",
    "vector_shape = vector.shape\n",
    "matrix_shape = matrix.shape\n",
    "tensor_shape = tensor.shape\n",
    "\n",
    "# Rank (Number of dimensions)\n",
    "scalar_rank = tf.rank(scalar)\n",
    "vector_rank = tf.rank(vector)\n",
    "matrix_rank = tf.rank(matrix)\n",
    "tensor_rank = tf.rank(tensor)\n",
    "\n",
    "# Size (Total number of elements)\n",
    "scalar_size = tf.size(scalar)\n",
    "vector_size = tf.size(vector)\n",
    "matrix_size = tf.size(matrix)\n",
    "tensor_size = tf.size(tensor)\n",
    "\n",
    "print(f\"Scalar shape: {scalar_shape}, rank: {scalar_rank.numpy()}, size: {scalar_size.numpy()}\")\n",
    "print(f\"Vector shape: {vector_shape}, rank: {vector_rank.numpy()}, size: {vector_size.numpy()}\")\n",
    "print(f\"Matrix shape: {matrix_shape}, rank: {matrix_rank.numpy()}, size: {matrix_size.numpy()}\")\n",
    "print(f\"Tensor shape: {tensor_shape}, rank: {tensor_rank.numpy()}, size: {tensor_size.numpy()}\")"
   ]
  },
  {
   "cell_type": "code",
   "execution_count": 4,
   "metadata": {},
   "outputs": [],
   "source": [
    "tensor_1 = tf.random.uniform(shape=[5, 300], minval=0, maxval=1)\n",
    "tensor_2 = tf.random.uniform(shape=[5, 300], minval=0, maxval=1)"
   ]
  },
  {
   "cell_type": "code",
   "execution_count": 5,
   "metadata": {},
   "outputs": [
    {
     "data": {
      "text/plain": [
       "<tf.Tensor: shape=(5, 5), dtype=float32, numpy=\n",
       "array([[74.98278 , 72.1669  , 70.03015 , 76.63704 , 71.890144],\n",
       "       [74.745605, 71.52576 , 66.587746, 77.06868 , 71.47607 ],\n",
       "       [79.31361 , 75.87399 , 71.75935 , 79.37779 , 74.62061 ],\n",
       "       [77.61182 , 74.76846 , 72.47418 , 75.80911 , 73.83296 ],\n",
       "       [79.433464, 72.47853 , 74.68312 , 81.354805, 70.58197 ]],\n",
       "      dtype=float32)>"
      ]
     },
     "execution_count": 5,
     "metadata": {},
     "output_type": "execute_result"
    }
   ],
   "source": [
    "# Matrix multiplication\n",
    "result_matrix_multiplication = tf.matmul(tensor_1, tf.transpose(tensor_2))\n",
    "result_matrix_multiplication\n"
   ]
  },
  {
   "cell_type": "code",
   "execution_count": 6,
   "metadata": {},
   "outputs": [
    {
     "data": {
      "text/plain": [
       "<tf.Tensor: shape=(5, 300), dtype=float32, numpy=\n",
       "array([[2.28228897e-01, 5.85514605e-01, 6.52532816e-01, ...,\n",
       "        4.01858896e-01, 5.53482056e-01, 1.19874543e-02],\n",
       "       [7.84745887e-02, 2.35028844e-02, 4.51760679e-01, ...,\n",
       "        3.48083884e-01, 2.36031323e-04, 4.64678667e-02],\n",
       "       [1.90429807e-01, 5.42375565e-01, 1.22291092e-02, ...,\n",
       "        5.40061951e-01, 1.25985503e-01, 1.19343875e-02],\n",
       "       [3.50273866e-03, 1.54759243e-01, 1.30986437e-01, ...,\n",
       "        3.08855146e-01, 1.02714263e-01, 2.59900093e-01],\n",
       "       [1.37637988e-01, 1.53242841e-01, 4.59835947e-01, ...,\n",
       "        6.26246929e-01, 1.37867406e-01, 5.40288806e-01]], dtype=float32)>"
      ]
     },
     "execution_count": 6,
     "metadata": {},
     "output_type": "execute_result"
    }
   ],
   "source": [
    "# Element-wise multiplication (dot product)\n",
    "result_dot_product = tf.multiply(tensor_1, tensor_2)\n",
    "result_dot_product"
   ]
  },
  {
   "cell_type": "code",
   "execution_count": 7,
   "metadata": {},
   "outputs": [],
   "source": [
    "image_tensor = tf.random.uniform(shape=[224, 224, 3], minval=0, maxval=1)"
   ]
  },
  {
   "cell_type": "code",
   "execution_count": 8,
   "metadata": {},
   "outputs": [
    {
     "name": "stdout",
     "output_type": "stream",
     "text": [
      "Min value: 2.384185791015625e-06, Max value: 0.9999953508377075\n"
     ]
    }
   ],
   "source": [
    "min_value = tf.reduce_min(image_tensor)\n",
    "max_value = tf.reduce_max(image_tensor)\n",
    "\n",
    "print(f\"Min value: {min_value.numpy()}, Max value: {max_value.numpy()}\")"
   ]
  },
  {
   "cell_type": "code",
   "execution_count": 9,
   "metadata": {},
   "outputs": [
    {
     "name": "stdout",
     "output_type": "stream",
     "text": [
      "Original shape: (1, 224, 224, 3)\n",
      "Squeezed shape: (224, 224, 3)\n"
     ]
    }
   ],
   "source": [
    "tensor_to_squeeze = tf.random.uniform(shape=[1, 224, 224, 3], minval=0, maxval=1)\n",
    "squeezed_tensor = tf.squeeze(tensor_to_squeeze)\n",
    "\n",
    "print(f\"Original shape: {tensor_to_squeeze.shape}\")\n",
    "print(f\"Squeezed shape: {squeezed_tensor.shape}\")"
   ]
  },
  {
   "cell_type": "code",
   "execution_count": 10,
   "metadata": {},
   "outputs": [
    {
     "name": "stdout",
     "output_type": "stream",
     "text": [
      "Tensor: [3 9 1 4 8 7 2 5 6 0]\n",
      "Index with maximum value: 1\n"
     ]
    }
   ],
   "source": [
    "custom_tensor = tf.constant([3, 9, 1, 4, 8, 7, 2, 5, 6, 0])\n",
    "max_index = tf.argmax(custom_tensor)\n",
    "\n",
    "print(f\"Tensor: {custom_tensor.numpy()}\")\n",
    "print(f\"Index with maximum value: {max_index.numpy()}\")"
   ]
  },
  {
   "cell_type": "code",
   "execution_count": 11,
   "metadata": {},
   "outputs": [
    {
     "name": "stdout",
     "output_type": "stream",
     "text": [
      "One-hot encoded tensor:\n",
      "[[0. 0. 0. 1. 0. 0. 0. 0. 0. 0.]\n",
      " [0. 0. 0. 0. 0. 0. 0. 0. 0. 1.]\n",
      " [0. 1. 0. 0. 0. 0. 0. 0. 0. 0.]\n",
      " [0. 0. 0. 0. 1. 0. 0. 0. 0. 0.]\n",
      " [0. 0. 0. 0. 0. 0. 0. 0. 1. 0.]\n",
      " [0. 0. 0. 0. 0. 0. 0. 1. 0. 0.]\n",
      " [0. 0. 1. 0. 0. 0. 0. 0. 0. 0.]\n",
      " [0. 0. 0. 0. 0. 1. 0. 0. 0. 0.]\n",
      " [0. 0. 0. 0. 0. 0. 1. 0. 0. 0.]\n",
      " [1. 0. 0. 0. 0. 0. 0. 0. 0. 0.]]\n"
     ]
    }
   ],
   "source": [
    "one_hot_encoded_tensor = tf.one_hot(custom_tensor, depth=10)\n",
    "\n",
    "print(f\"One-hot encoded tensor:\\n{one_hot_encoded_tensor}\")"
   ]
  },
  {
   "cell_type": "code",
   "execution_count": 12,
   "metadata": {},
   "outputs": [],
   "source": [
    "# tf.image.random_flip_left_right documentation\n",
    "\"\"\"\n",
    "Ngebalikin sebuah gambar secara horizontal (kiri ke kanan) dengan peluang 50%.\n",
    "\n",
    "Input:\n",
    "- image: sebuah tensor (3d) dengan spesifikasi [height, width, channels].\n",
    "  \n",
    "Outpur:\n",
    "- Tensor yang sama tipe, bedanya kebalik.\n",
    "\"\"\"\n",
    "\n",
    "image = tf.random.uniform(shape=[224, 224, 3], minval=0, maxval=1)\n",
    "flipped_image = tf.image.random_flip_left_right(image)\n"
   ]
  },
  {
   "cell_type": "code",
   "execution_count": 14,
   "metadata": {},
   "outputs": [
    {
     "name": "stdout",
     "output_type": "stream",
     "text": [
      "Total bill for one trip: $16.649999618530273\n",
      "Total bill for the month: $66.5999984741211\n",
      "Total bill for the year: $799.199951171875\n"
     ]
    }
   ],
   "source": [
    "# Ngitung uang belajaan\n",
    "prices = tf.constant([3.50, 4.20, 5.10, 2.35, 1.50])  # perkiraan harga\n",
    "\n",
    "# Hitungan belanja\n",
    "total_bill = tf.reduce_sum(prices)\n",
    "\n",
    "# Hitungan belanja perbulan (kalo misal belanja tiap 4 minggu)\n",
    "monthly_bill = total_bill * 4\n",
    "\n",
    "# Hitungan belanja pertahun (12 bulan)\n",
    "yearly_bill = monthly_bill * 12\n",
    "\n",
    "print(f\"Total bill for one trip: ${total_bill.numpy()}\")\n",
    "print(f\"Total bill for the month: ${monthly_bill.numpy()}\")\n",
    "print(f\"Total bill for the year: ${yearly_bill.numpy()}\")\n"
   ]
  },
  {
   "cell_type": "code",
   "execution_count": null,
   "metadata": {},
   "outputs": [],
   "source": []
  }
 ],
 "metadata": {
  "kernelspec": {
   "display_name": "Python 3",
   "language": "python",
   "name": "python3"
  },
  "language_info": {
   "codemirror_mode": {
    "name": "ipython",
    "version": 3
   },
   "file_extension": ".py",
   "mimetype": "text/x-python",
   "name": "python",
   "nbconvert_exporter": "python",
   "pygments_lexer": "ipython3",
   "version": "3.12.3"
  }
 },
 "nbformat": 4,
 "nbformat_minor": 2
}
