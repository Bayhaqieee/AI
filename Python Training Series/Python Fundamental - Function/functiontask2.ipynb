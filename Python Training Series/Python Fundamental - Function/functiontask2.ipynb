{
 "cells": [
  {
   "cell_type": "code",
   "execution_count": null,
   "metadata": {},
   "outputs": [],
   "source": [
    "from collections import Counter"
   ]
  },
  {
   "cell_type": "code",
   "execution_count": 1,
   "metadata": {},
   "outputs": [
    {
     "name": "stdout",
     "output_type": "stream",
     "text": [
      "The number of odds are 75. The number of evens are 76.\n"
     ]
    }
   ],
   "source": [
    "def evens_and_odds(n):\n",
    "    evens = 0\n",
    "    odds = 0\n",
    "    \n",
    "    for i in range(n + 1):\n",
    "        if i % 2 == 0:\n",
    "            evens += 1\n",
    "        else:\n",
    "            odds += 1\n",
    "    \n",
    "    return f\"The number of odds are {odds}. The number of evens are {evens}.\"\n",
    "\n",
    "print(evens_and_odds(150))\n"
   ]
  },
  {
   "cell_type": "code",
   "execution_count": 2,
   "metadata": {},
   "outputs": [
    {
     "name": "stdout",
     "output_type": "stream",
     "text": [
      "720\n"
     ]
    }
   ],
   "source": [
    "def factorial(n):\n",
    "    if n == 0 or n == 1:\n",
    "        return 1\n",
    "    else:\n",
    "        result = 1\n",
    "        for i in range(2, n + 1):\n",
    "            result *= i\n",
    "        return result\n",
    "\n",
    "print(factorial(6))"
   ]
  },
  {
   "cell_type": "code",
   "execution_count": 3,
   "metadata": {},
   "outputs": [
    {
     "name": "stdout",
     "output_type": "stream",
     "text": [
      "True\n",
      "False\n",
      "False\n"
     ]
    }
   ],
   "source": [
    "def is_empty(param):\n",
    "    return not bool(param)\n",
    "\n",
    "print(is_empty([]))\n",
    "print(is_empty([1, 2, 3]))\n",
    "print(is_empty(['A', 2, 3]))\n"
   ]
  },
  {
   "cell_type": "code",
   "execution_count": 4,
   "metadata": {},
   "outputs": [
    {
     "name": "stdout",
     "output_type": "stream",
     "text": [
      "6.4\n"
     ]
    }
   ],
   "source": [
    "def calculate_mean(lst):\n",
    "    return sum(lst) / len(lst) if lst else 0\n",
    "\n",
    "print(calculate_mean([3, 12, 7, 6, 4]))\n"
   ]
  },
  {
   "cell_type": "code",
   "execution_count": 5,
   "metadata": {},
   "outputs": [
    {
     "name": "stdout",
     "output_type": "stream",
     "text": [
      "6\n",
      "3.5\n"
     ]
    }
   ],
   "source": [
    "def calculate_median(lst):\n",
    "    sorted_lst = sorted(lst)\n",
    "    n = len(sorted_lst)\n",
    "    mid = n // 2\n",
    "    \n",
    "    if n % 2 == 0:\n",
    "        return (sorted_lst[mid - 1] + sorted_lst[mid]) / 2\n",
    "    else:\n",
    "        return sorted_lst[mid]\n",
    "\n",
    "print(calculate_median([3, 6, 7, 6, 9]))\n",
    "print(calculate_median([1, 2, 3, 4, 5, 6]))\n"
   ]
  },
  {
   "cell_type": "code",
   "execution_count": null,
   "metadata": {},
   "outputs": [],
   "source": [
    "def calculate_mode(lst):\n",
    "    count = Counter(lst)\n",
    "    max_count = max(count.values())\n",
    "    modes = [k for k, v in count.items() if v == max_count]\n",
    "    \n",
    "    if len(modes) == len(lst):\n",
    "        return \"No mode\"\n",
    "    return modes\n",
    "\n",
    "print(calculate_mode([1, 2, 3, 3, 4, 4, 5]))  # Output: [3, 4]\n"
   ]
  }
 ],
 "metadata": {
  "kernelspec": {
   "display_name": "Python 3",
   "language": "python",
   "name": "python3"
  },
  "language_info": {
   "codemirror_mode": {
    "name": "ipython",
    "version": 3
   },
   "file_extension": ".py",
   "mimetype": "text/x-python",
   "name": "python",
   "nbconvert_exporter": "python",
   "pygments_lexer": "ipython3",
   "version": "3.12.3"
  }
 },
 "nbformat": 4,
 "nbformat_minor": 2
}
