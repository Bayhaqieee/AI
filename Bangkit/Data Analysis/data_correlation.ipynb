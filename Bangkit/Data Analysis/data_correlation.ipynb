{
 "cells": [
  {
   "cell_type": "code",
   "execution_count": 1,
   "metadata": {},
   "outputs": [],
   "source": [
    "import pandas as pd"
   ]
  },
  {
   "cell_type": "code",
   "execution_count": 2,
   "metadata": {},
   "outputs": [],
   "source": [
    "sample_data = {\n",
    "    'name': ['John', 'Alia', 'Ananya', 'Steve', 'Ben'],\n",
    "    'age': [24, 22, 23, 25, 28],  \n",
    "    'communication_skill_score': [85, 70, 75, 90, 90],\n",
    "    'quantitative_skill_score': [80, 90, 80, 75, 70]\n",
    "}"
   ]
  },
  {
   "cell_type": "code",
   "execution_count": 3,
   "metadata": {},
   "outputs": [
    {
     "data": {
      "text/html": [
       "<div>\n",
       "<style scoped>\n",
       "    .dataframe tbody tr th:only-of-type {\n",
       "        vertical-align: middle;\n",
       "    }\n",
       "\n",
       "    .dataframe tbody tr th {\n",
       "        vertical-align: top;\n",
       "    }\n",
       "\n",
       "    .dataframe thead th {\n",
       "        text-align: right;\n",
       "    }\n",
       "</style>\n",
       "<table border=\"1\" class=\"dataframe\">\n",
       "  <thead>\n",
       "    <tr style=\"text-align: right;\">\n",
       "      <th></th>\n",
       "      <th>age</th>\n",
       "      <th>communication_skill_score</th>\n",
       "      <th>quantitative_skill_score</th>\n",
       "    </tr>\n",
       "  </thead>\n",
       "  <tbody>\n",
       "    <tr>\n",
       "      <th>age</th>\n",
       "      <td>1.000000</td>\n",
       "      <td>0.848855</td>\n",
       "      <td>-0.922489</td>\n",
       "    </tr>\n",
       "    <tr>\n",
       "      <th>communication_skill_score</th>\n",
       "      <td>0.848855</td>\n",
       "      <td>1.000000</td>\n",
       "      <td>-0.890724</td>\n",
       "    </tr>\n",
       "    <tr>\n",
       "      <th>quantitative_skill_score</th>\n",
       "      <td>-0.922489</td>\n",
       "      <td>-0.890724</td>\n",
       "      <td>1.000000</td>\n",
       "    </tr>\n",
       "  </tbody>\n",
       "</table>\n",
       "</div>"
      ],
      "text/plain": [
       "                                age  communication_skill_score  \\\n",
       "age                        1.000000                   0.848855   \n",
       "communication_skill_score  0.848855                   1.000000   \n",
       "quantitative_skill_score  -0.922489                  -0.890724   \n",
       "\n",
       "                           quantitative_skill_score  \n",
       "age                                       -0.922489  \n",
       "communication_skill_score                 -0.890724  \n",
       "quantitative_skill_score                   1.000000  "
      ]
     },
     "execution_count": 3,
     "metadata": {},
     "output_type": "execute_result"
    }
   ],
   "source": [
    "df = pd.DataFrame(sample_data)\n",
    "df.corr(numeric_only=True)"
   ]
  },
  {
   "cell_type": "markdown",
   "metadata": {},
   "source": [
    "#### Covariance"
   ]
  },
  {
   "cell_type": "code",
   "execution_count": 4,
   "metadata": {},
   "outputs": [
    {
     "data": {
      "text/html": [
       "<div>\n",
       "<style scoped>\n",
       "    .dataframe tbody tr th:only-of-type {\n",
       "        vertical-align: middle;\n",
       "    }\n",
       "\n",
       "    .dataframe tbody tr th {\n",
       "        vertical-align: top;\n",
       "    }\n",
       "\n",
       "    .dataframe thead th {\n",
       "        text-align: right;\n",
       "    }\n",
       "</style>\n",
       "<table border=\"1\" class=\"dataframe\">\n",
       "  <thead>\n",
       "    <tr style=\"text-align: right;\">\n",
       "      <th></th>\n",
       "      <th>age</th>\n",
       "      <th>communication_skill_score</th>\n",
       "      <th>quantitative_skill_score</th>\n",
       "    </tr>\n",
       "  </thead>\n",
       "  <tbody>\n",
       "    <tr>\n",
       "      <th>age</th>\n",
       "      <td>5.30</td>\n",
       "      <td>17.75</td>\n",
       "      <td>-15.75</td>\n",
       "    </tr>\n",
       "    <tr>\n",
       "      <th>communication_skill_score</th>\n",
       "      <td>17.75</td>\n",
       "      <td>82.50</td>\n",
       "      <td>-60.00</td>\n",
       "    </tr>\n",
       "    <tr>\n",
       "      <th>quantitative_skill_score</th>\n",
       "      <td>-15.75</td>\n",
       "      <td>-60.00</td>\n",
       "      <td>55.00</td>\n",
       "    </tr>\n",
       "  </tbody>\n",
       "</table>\n",
       "</div>"
      ],
      "text/plain": [
       "                             age  communication_skill_score  \\\n",
       "age                         5.30                      17.75   \n",
       "communication_skill_score  17.75                      82.50   \n",
       "quantitative_skill_score  -15.75                     -60.00   \n",
       "\n",
       "                           quantitative_skill_score  \n",
       "age                                          -15.75  \n",
       "communication_skill_score                    -60.00  \n",
       "quantitative_skill_score                      55.00  "
      ]
     },
     "execution_count": 4,
     "metadata": {},
     "output_type": "execute_result"
    }
   ],
   "source": [
    "df.cov(numeric_only=True)"
   ]
  },
  {
   "cell_type": "code",
   "execution_count": null,
   "metadata": {},
   "outputs": [],
   "source": []
  }
 ],
 "metadata": {
  "kernelspec": {
   "display_name": "Python 3",
   "language": "python",
   "name": "python3"
  },
  "language_info": {
   "codemirror_mode": {
    "name": "ipython",
    "version": 3
   },
   "file_extension": ".py",
   "mimetype": "text/x-python",
   "name": "python",
   "nbconvert_exporter": "python",
   "pygments_lexer": "ipython3",
   "version": "3.12.3"
  }
 },
 "nbformat": 4,
 "nbformat_minor": 2
}
